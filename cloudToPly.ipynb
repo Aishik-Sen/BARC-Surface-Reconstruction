{
 "cells": [
  {
   "cell_type": "code",
   "execution_count": null,
   "id": "16fd5298-032f-4a56-b5e3-cad5b479f159",
   "metadata": {},
   "outputs": [],
   "source": [
    "import open3d as o3d\n",
    "import numpy as np\n",
    "\n",
    "def convert_xyz_to_ply(input_file, output_file):\n",
    "    # Read the XYZ point cloud\n",
    "    point_cloud = np.loadtxt(input_file, delimiter=' ')\n",
    "    # Create an Open3D PointCloud object\n",
    "    pcd = o3d.geometry.PointCloud()\n",
    "    # Set the points\n",
    "    pcd.points = o3d.utility.Vector3dVector(point_cloud[:, :3])\n",
    "    # Save the point cloud as a PLY file\n",
    "    o3d.io.write_point_cloud(output_file, pcd)\n",
    "\n",
    "# Example usage\n",
    "input_file = \"path/to/your/pointcloud.xyz\"\n",
    "output_file = \"path/to/your/pointcloud.ply\"\n",
    "convert_xyz_to_ply(input_file, output_file)\n"
   ]
  }
 ],
 "metadata": {
  "kernelspec": {
   "display_name": "Python 3 (ipykernel)",
   "language": "python",
   "name": "python3"
  },
  "language_info": {
   "codemirror_mode": {
    "name": "ipython",
    "version": 3
   },
   "file_extension": ".py",
   "mimetype": "text/x-python",
   "name": "python",
   "nbconvert_exporter": "python",
   "pygments_lexer": "ipython3",
   "version": "3.11.7"
  }
 },
 "nbformat": 4,
 "nbformat_minor": 5
}
